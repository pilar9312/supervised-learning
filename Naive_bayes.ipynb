{
 "cells": [
  {
   "cell_type": "code",
   "execution_count": 55,
   "id": "8ac38686-7a09-482e-bae1-1de124c410be",
   "metadata": {},
   "outputs": [
    {
     "name": "stdout",
     "output_type": "stream",
     "text": [
      "La probabilidad de que el paciente tenga COVID-19 dados los sintomas es 0.9999999999671295\n"
     ]
    }
   ],
   "source": [
    "p_fatiga_given_covid = 0.50\n",
    "p_tos_seca_given_covid = 0.70\n",
    "p_dificultad_respirar_given_covid = 0.80\n",
    "p_dolor_garganta_given_covid = 0.60\n",
    "p_dolor_cabeza_given_covid = 0.70\n",
    "p_dolor_cuerpo_given_covid = 0.40\n",
    "p_escalofrios_given_covid = 0.50\n",
    "p_secrecion_nasal_given_covid = 0.50\n",
    "p_perdida_sentido_given_covid = 0.60\n",
    "p_fiebre_given_covid = 0.80\n",
    "p_dolor_pecho_given_covid = 0.50\n",
    "p_covid = 0.05\n",
    "sintomas = ['Fatiga', 'Tos seaca', 'Dificultad para respirar', 'Dolor de garganta', 'Dolor de cabeza', 'Dolor en el cuerpo', 'Escalofrios', 'Secrecion nasal', \n",
    "           'Perdida sentido del sentido del olfato o del gusto', 'Fiebre', ' Dolor de pecho']\n",
    "p_sintomas_given_covid = p_fatiga_given_covid * p_tos_seca_given_covid * p_dificultad_respirar_given_covid * \\\n",
    "                         p_dolor_garganta_given_covid * p_dolor_cabeza_given_covid * p_dolor_cuerpo_given_covid * \\\n",
    "                         p_escalofrios_given_covid * p_secrecion_nasal_given_covid * p_perdida_sentido_given_covid * \\\n",
    "                         p_fiebre_given_covid * p_dolor_pecho_given_covid\n",
    "p_sintomas_given_no_covid = 0.05 ** 11\n",
    "p_sintomas = p_sintomas_given_covid * p_covid + p_sintomas_given_no_covid * (1 - p_covid)\n",
    "p_covid_given_sintomas = p_sintomas_given_covid * p_covid / p_sintomas\n",
    "print(f\"La probabilidad de que el paciente tenga COVID-19 dados los sintomas es {p_covid_given_sintomas}\")"
   ]
  },
  {
   "cell_type": "markdown",
   "id": "d540e5f7-0480-4bf1-98a6-ef4aedda13e1",
   "metadata": {},
   "source": [
    "- No tiene sintoma de fatiga"
   ]
  },
  {
   "cell_type": "code",
   "execution_count": 56,
   "id": "0ae71041-e88c-4e28-8baa-454bfeeae978",
   "metadata": {},
   "outputs": [
    {
     "name": "stdout",
     "output_type": "stream",
     "text": [
      "La probabilidad de que el paciente tenga COVID-19 dados los sintomas es 0.9999999999835649\n"
     ]
    }
   ],
   "source": [
    "p_sintomas_given_covid = p_tos_seca_given_covid * p_dificultad_respirar_given_covid * \\\n",
    "                         p_dolor_garganta_given_covid * p_dolor_cabeza_given_covid * p_dolor_cuerpo_given_covid * \\\n",
    "                         p_escalofrios_given_covid * p_secrecion_nasal_given_covid * p_perdida_sentido_given_covid * \\\n",
    "                         p_fiebre_given_covid * p_dolor_pecho_given_covid\n",
    "p_sintomas_given_no_covid = 0.05 ** 11\n",
    "p_sintomas = p_sintomas_given_covid * p_covid + p_sintomas_given_no_covid * (1 - p_covid)\n",
    "p_covid_given_sintomas = p_sintomas_given_covid * p_covid / p_sintomas\n",
    "print(f\"La probabilidad de que el paciente tenga COVID-19 dados los sintomas es {p_covid_given_sintomas}\")"
   ]
  },
  {
   "cell_type": "markdown",
   "id": "974ca8f6-e56a-49b3-b87d-2bdfbd507006",
   "metadata": {},
   "source": [
    " - Paciente no tiene fatiga, fiebre ni dolor de pecho"
   ]
  },
  {
   "cell_type": "code",
   "execution_count": 57,
   "id": "9a699e63-da34-4cda-8fc4-216b934ecb4a",
   "metadata": {},
   "outputs": [
    {
     "name": "stdout",
     "output_type": "stream",
     "text": [
      "La probabilidad de que el paciente tenga COVID-19 dados los sintomas es 0.9999999999934259\n"
     ]
    }
   ],
   "source": [
    "p_sintomas_given_covid = p_tos_seca_given_covid * p_dificultad_respirar_given_covid * \\\n",
    "                         p_dolor_garganta_given_covid * p_dolor_cabeza_given_covid * p_dolor_cuerpo_given_covid * \\\n",
    "                         p_escalofrios_given_covid * p_secrecion_nasal_given_covid * p_perdida_sentido_given_covid\n",
    "p_sintomas_given_no_covid = 0.05 ** 11\n",
    "p_sintomas = p_sintomas_given_covid * p_covid + p_sintomas_given_no_covid * (1 - p_covid)\n",
    "p_covid_given_sintomas = p_sintomas_given_covid * p_covid / p_sintomas\n",
    "print(f\"La probabilidad de que el paciente tenga COVID-19 dados los sintomas es {p_covid_given_sintomas}\")"
   ]
  },
  {
   "cell_type": "code",
   "execution_count": null,
   "id": "ac34cdc6-67d4-458e-be5f-c2be86798710",
   "metadata": {},
   "outputs": [],
   "source": []
  },
  {
   "cell_type": "code",
   "execution_count": null,
   "id": "7c482b4e-50b0-49ce-9595-2c7f06dcf594",
   "metadata": {},
   "outputs": [],
   "source": []
  },
  {
   "cell_type": "code",
   "execution_count": null,
   "id": "a0b8640e-17e1-4db4-b496-3f031e3e597c",
   "metadata": {},
   "outputs": [],
   "source": []
  }
 ],
 "metadata": {
  "kernelspec": {
   "display_name": "Python 3 (ipykernel)",
   "language": "python",
   "name": "python3"
  },
  "language_info": {
   "codemirror_mode": {
    "name": "ipython",
    "version": 3
   },
   "file_extension": ".py",
   "mimetype": "text/x-python",
   "name": "python",
   "nbconvert_exporter": "python",
   "pygments_lexer": "ipython3",
   "version": "3.10.10"
  }
 },
 "nbformat": 4,
 "nbformat_minor": 5
}
